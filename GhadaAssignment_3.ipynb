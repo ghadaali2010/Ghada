{
  "nbformat": 4,
  "nbformat_minor": 0,
  "metadata": {
    "colab": {
      "name": "GhadaAssignment_3.ipynb",
      "provenance": [],
      "authorship_tag": "ABX9TyMtGL9n9uZTjUFkyxnR2fLc",
      "include_colab_link": true
    },
    "kernelspec": {
      "name": "python3",
      "display_name": "Python 3"
    },
    "language_info": {
      "name": "python"
    }
  },
  "cells": [
    {
      "cell_type": "markdown",
      "metadata": {
        "id": "view-in-github",
        "colab_type": "text"
      },
      "source": [
        "<a href=\"https://colab.research.google.com/github/ghadaali2010/Ghada/blob/main/GhadaAssignment_3.ipynb\" target=\"_parent\"><img src=\"https://colab.research.google.com/assets/colab-badge.svg\" alt=\"Open In Colab\"/></a>"
      ]
    },
    {
      "cell_type": "code",
      "source": [
        "#Assignment 3\n",
        "#Write a function to count the number 4 in a given list.\n",
        "def list_count_4(nums):\n",
        "  count = 0  \n",
        "  for num in nums:\n",
        "    if num == 4:\n",
        "      count = count + 1\n",
        "\n",
        "  return count\n",
        "\n",
        "print(list_count_4([1, 4, 6, 7, 47,7]))\n",
        "print(list_count_4([1, 4, 6, 4, 7, 4]))"
      ],
      "metadata": {
        "colab": {
          "base_uri": "https://localhost:8080/"
        },
        "id": "esDMA1-uuoGH",
        "outputId": "318ce51d-daca-41f9-9575-644811e87e59"
      },
      "execution_count": null,
      "outputs": [
        {
          "output_type": "stream",
          "name": "stdout",
          "text": [
            "1\n",
            "3\n"
          ]
        }
      ]
    },
    {
      "cell_type": "code",
      "source": [
        "#write a function to check whether a number is divisible by another number.\n",
        "def multiple(x, y):\n",
        "     return True if x % y == 0 else False\n",
        "print(multiple(20, 5))\n",
        "print(multiple(7, 2))"
      ],
      "metadata": {
        "colab": {
          "base_uri": "https://localhost:8080/"
        },
        "id": "F31cFXNHvSTu",
        "outputId": "614ca143-fff5-447d-86e6-7b85228e36ae"
      },
      "execution_count": null,
      "outputs": [
        {
          "output_type": "stream",
          "name": "stdout",
          "text": [
            "True\n",
            "False\n"
          ]
        }
      ]
    },
    {
      "cell_type": "code",
      "source": [
        "#write a function to find the maximum and minimum numbers from a sequence of numbers.\n",
        "def maxandmin(data):\n",
        "     a = data[0]\n",
        "     b = data[0]\n",
        "     for num in data:\n",
        "          if num> a:\n",
        "               a = num\n",
        "          elif num< b:\n",
        "              b = num\n",
        "     return a, b\n",
        "\n",
        "print(maxandmin([0, 10, 15, 40, -5, 42, 17, 28, 75]))"
      ],
      "metadata": {
        "colab": {
          "base_uri": "https://localhost:8080/"
        },
        "id": "kb61b-73xqig",
        "outputId": "d9a168f7-062b-42ea-cef4-34088a7502ef"
      },
      "execution_count": null,
      "outputs": [
        {
          "output_type": "stream",
          "name": "stdout",
          "text": [
            "(75, -5)\n"
          ]
        }
      ]
    },
    {
      "cell_type": "code",
      "source": [
        "#Write a Python function that takes two lists and returns True if they have at least one common member.\n",
        "def common_data(list1, list2):\n",
        "     result = False\n",
        "     for a in list1:\n",
        "         for b in list2:\n",
        "             if a == b:\n",
        "                 result = True\n",
        "                 return result\n",
        "print(common_data([1,2,'a',4], [5,6,'a',8,9]))\n",
        "print(common_data([1,3,4,5], [6,7,8,9]))"
      ],
      "metadata": {
        "colab": {
          "base_uri": "https://localhost:8080/"
        },
        "id": "jIaAwVVs_qxz",
        "outputId": "cb1c33e1-3ed1-4399-fbb5-07e5170ad923"
      },
      "execution_count": 5,
      "outputs": [
        {
          "output_type": "stream",
          "name": "stdout",
          "text": [
            "True\n",
            "None\n"
          ]
        }
      ]
    },
    {
      "cell_type": "code",
      "source": [
        "#Write a Python function to calculate the factorial of a number (a non-negative integer). The function accepts the number from the user\n",
        "def factorial(n):\n",
        "    if n == 0:\n",
        "        return 1\n",
        "    else:\n",
        "        return n * factorial(n-1)\n",
        "n=int(input(\"Input a number to compute the factiorial : \"))\n",
        "print(factorial(n))"
      ],
      "metadata": {
        "colab": {
          "base_uri": "https://localhost:8080/"
        },
        "id": "K_JOv9P5AjJV",
        "outputId": "05b276a7-6c18-4030-eea9-89b5e628cb23"
      },
      "execution_count": 11,
      "outputs": [
        {
          "output_type": "stream",
          "name": "stdout",
          "text": [
            "Input a number to compute the factiorial : 6\n",
            "720\n"
          ]
        }
      ]
    },
    {
      "cell_type": "code",
      "source": [
        "#Write a Python function to check whether a number is in a given range.The range is from 3 to 11\n",
        "def test_range(n):\n",
        "    if n in range(3,11):\n",
        "        print( \" %s is in the range\"%str(n))\n",
        "    else :\n",
        "        print(\"The number is outside the given range.\")\n",
        "test_range(12)\n",
        "test_range(8)"
      ],
      "metadata": {
        "colab": {
          "base_uri": "https://localhost:8080/"
        },
        "id": "RoQTjhFFBEDz",
        "outputId": "bb108e8d-a8e6-4bda-ab2c-cf35c3272fba"
      },
      "execution_count": 9,
      "outputs": [
        {
          "output_type": "stream",
          "name": "stdout",
          "text": [
            "The number is outside the given range.\n",
            " 8 is in the range\n"
          ]
        }
      ]
    },
    {
      "cell_type": "code",
      "source": [
        "#Write a program to create the multiplication table (from 1 to 10) of a number.\n",
        "n = int(input(\"Input a number: \"))\n",
        "\n",
        "# use for loop to iterate 10 times\n",
        "for i in range(1,11):\n",
        "   print(n,'x',i,'=',n*i)"
      ],
      "metadata": {
        "colab": {
          "base_uri": "https://localhost:8080/"
        },
        "id": "YHjGGqXaBfc4",
        "outputId": "df6427f1-694b-4b52-a9c5-c85830054a6b"
      },
      "execution_count": 12,
      "outputs": [
        {
          "output_type": "stream",
          "name": "stdout",
          "text": [
            "Input a number: 10\n",
            "10 x 1 = 10\n",
            "10 x 2 = 20\n",
            "10 x 3 = 30\n",
            "10 x 4 = 40\n",
            "10 x 5 = 50\n",
            "10 x 6 = 60\n",
            "10 x 7 = 70\n",
            "10 x 8 = 80\n",
            "10 x 9 = 90\n",
            "10 x 10 = 100\n"
          ]
        }
      ]
    },
    {
      "cell_type": "code",
      "source": [
        "#Write a function that returns the lesser of two given numbers if both numbers are even, but returns the greater if one or both numbers are odd\n",
        "def lesser_of_two_evens(a,b):\n",
        "    if (a % 2 and b % 2) != 0:\n",
        "        if b > a:\n",
        "            print(b)\n",
        "        if a > b:\n",
        "            print(a)    \n",
        "    elif (a % 2 and b % 2) == 0:\n",
        "        if a < b:\n",
        "            print(a)\n",
        "        else:\n",
        "          print(b)\n",
        "    pass\n",
        "lesser_of_two_evens(8,12)  \n",
        "lesser_of_two_evens(12,23)"
      ],
      "metadata": {
        "colab": {
          "base_uri": "https://localhost:8080/"
        },
        "id": "tnhoqHx1DHjr",
        "outputId": "f410379d-720e-42bc-f526-f3900df18871"
      },
      "execution_count": 28,
      "outputs": [
        {
          "output_type": "stream",
          "name": "stdout",
          "text": [
            "8\n",
            "12\n"
          ]
        }
      ]
    },
    {
      "cell_type": "code",
      "source": [
        "#Write a function takes a two-word string and returns True if both words begin with same letter\n",
        "def animal_crackers(string):\n",
        "    s1, s2 = string.split(' ')\n",
        "    print(s1[0].upper() == s2[0].upper())\n",
        "\n",
        "animal_crackers('Levelheaded Llama') \n",
        "animal_crackers('Crazy Kangaroo') \n"
      ],
      "metadata": {
        "colab": {
          "base_uri": "https://localhost:8080/"
        },
        "id": "8MogyCjZHt97",
        "outputId": "9c033509-5e12-4d6b-f885-e0c11298c9da"
      },
      "execution_count": 29,
      "outputs": [
        {
          "output_type": "stream",
          "name": "stdout",
          "text": [
            "True\n",
            "False\n"
          ]
        }
      ]
    },
    {
      "cell_type": "code",
      "source": [
        "#Given two integers, return True if the sum of the integers is 20 or if one of the integers is 20. If not, return False\n",
        "def test_number20(x, y):\n",
        "   if x == 20 or y == 20 or (x+y) == 20:\n",
        "       return True\n",
        "   else:\n",
        "       return False\n",
        "print(test_number20(17, 2))\n",
        "print(test_number20(3, 2))\n",
        "print(test_number20(2, 20))\n",
        "print(test_number20(17, 3))\n",
        "print(test_number20(20, 53))"
      ],
      "metadata": {
        "colab": {
          "base_uri": "https://localhost:8080/"
        },
        "id": "-Ng68FW9IEg1",
        "outputId": "4d90cdd8-b5a2-4bef-e728-2b78dd538366"
      },
      "execution_count": 31,
      "outputs": [
        {
          "output_type": "stream",
          "name": "stdout",
          "text": [
            "False\n",
            "False\n",
            "True\n",
            "True\n",
            "True\n"
          ]
        }
      ]
    },
    {
      "cell_type": "code",
      "source": [
        "#Given an integer n, return True if n is within 10 of either 100 or 200\n",
        "def almost_there(n):\n",
        "    if ((abs(100 - n) <= 10) or (abs(200 - n) <= 10)):\n",
        "        return True\n",
        "    else:\n",
        "        return False\n",
        "\n",
        "almost_there(291) \n",
        "almost_there(104)\n",
        "almost_there(150) \n",
        "almost_there(209) "
      ],
      "metadata": {
        "colab": {
          "base_uri": "https://localhost:8080/"
        },
        "id": "QYsH50nFIo_0",
        "outputId": "d31a29fc-2708-4838-fb4a-5aea57a0500d"
      },
      "execution_count": 40,
      "outputs": [
        {
          "output_type": "execute_result",
          "data": {
            "text/plain": [
              "True"
            ]
          },
          "metadata": {},
          "execution_count": 40
        }
      ]
    },
    {
      "cell_type": "code",
      "source": [
        "#Given three integers between 1 and 11, if their sum is less than or equal to 21, return their sum. If their sum exceeds 21 and there's an eleven, reduce the total sum by 10. Finally, if the sum exceeds 21, return 'BUST'\n",
        "def blackjack(a, b, c):\n",
        "    sum = a + b + c\n",
        "    if sum <= 21:\n",
        "        return sum\n",
        "    elif sum > 21:\n",
        "        if a == 11 or b == 11 or c == 11:\n",
        "            return sum-10\n",
        "        else:\n",
        "            return 'BUST'\n",
        "\n",
        "print(blackjack(5, 9, 1))\n",
        "print(blackjack(5, 9, 10))\n",
        "print(blackjack(11,11,11))"
      ],
      "metadata": {
        "colab": {
          "base_uri": "https://localhost:8080/"
        },
        "id": "ruELaHhsKDxa",
        "outputId": "1981c4ce-9214-4652-c259-86d5f2cd7d88"
      },
      "execution_count": 50,
      "outputs": [
        {
          "output_type": "stream",
          "name": "stdout",
          "text": [
            "15\n",
            "BUST\n",
            "23\n"
          ]
        }
      ]
    }
  ]
}