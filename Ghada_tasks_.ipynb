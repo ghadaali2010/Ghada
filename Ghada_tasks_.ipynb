{
  "nbformat": 4,
  "nbformat_minor": 0,
  "metadata": {
    "colab": {
      "name": "Ghada tasks .ipynb",
      "provenance": [],
      "collapsed_sections": [],
      "authorship_tag": "ABX9TyOuxaDnjt4J+b9KdXdtFbyV",
      "include_colab_link": true
    },
    "kernelspec": {
      "name": "python3",
      "display_name": "Python 3"
    },
    "language_info": {
      "name": "python"
    }
  },
  "cells": [
    {
      "cell_type": "markdown",
      "metadata": {
        "id": "view-in-github",
        "colab_type": "text"
      },
      "source": [
        "<a href=\"https://colab.research.google.com/github/ghadaali2010/Ghada/blob/main/Ghada_tasks_.ipynb\" target=\"_parent\"><img src=\"https://colab.research.google.com/assets/colab-badge.svg\" alt=\"Open In Colab\"/></a>"
      ]
    },
    {
      "cell_type": "code",
      "execution_count": null,
      "metadata": {
        "id": "b8t0pNWsUslO"
      },
      "outputs": [],
      "source": [
        ""
      ]
    },
    {
      "cell_type": "code",
      "source": [
        "# Task 1\n",
        "# Gravitational force is the attractive force that exists between twomasses. It can be calculated by using the following formula\n",
        "G=6.67 * (10**(-11)) # gravity\n",
        "M=6 * (10**(24))     # Earth mass\n",
        "m=7.34 * (10**(22))  # Moon mass\n",
        "r=3.84*(10**8)       # Earth radii\n",
        "F=(G*M*m)/(r**2)     # Force\n",
        "print(F)\n",
        "\n"
      ],
      "metadata": {
        "id": "30Xzoy8DAkhl",
        "colab": {
          "base_uri": "https://localhost:8080/"
        },
        "outputId": "5d1d5e45-87b5-49d1-d275-cefe9fbbf205"
      },
      "execution_count": null,
      "outputs": [
        {
          "output_type": "stream",
          "name": "stdout",
          "text": [
            "1.9920979817708333e+20\n"
          ]
        }
      ]
    },
    {
      "cell_type": "code",
      "source": [
        "# task 3\n",
        "#Write a program that accepts a sequence of comma-separatednumbers from user and generates a list and a tuple with those numbers\n",
        "\n",
        "x = input('Enter your name')\n",
        "y = input('Enter your age')\n",
        "z = input('Enter your favoirte float')\n",
        "a = [x, y, z]\n",
        "b = {x, y, z}\n",
        "c = (x, y, z)\n",
        "print(type(a))\n",
        "print(type(b))\n",
        "print(type(c))"
      ],
      "metadata": {
        "colab": {
          "base_uri": "https://localhost:8080/"
        },
        "id": "tWOCzSXuTOjS",
        "outputId": "5963276a-c34c-472c-b842-e6431bcedec7"
      },
      "execution_count": null,
      "outputs": [
        {
          "output_type": "stream",
          "name": "stdout",
          "text": [
            "Enter your nameghada\n",
            "Enter your age7\n",
            "Enter your favoirte float2.5\n",
            "<class 'list'>\n",
            "<class 'set'>\n",
            "<class 'tuple'>\n"
          ]
        }
      ]
    },
    {
      "cell_type": "code",
      "source": [
        " # task\n",
        " # Write a function to get user info first name, last name, gender, id(3 numbers) and save it to a text file.\n",
        " ## create function\n",
        "def file(firstname, lastname, gender, I):\n",
        "        firstname = ('Ghada')\n",
        "        lastname = ('Ali')\n",
        "        gender =('Female')\n",
        "        I = input ('456')\n",
        "        f= open(\"task.txt\",'a')\n",
        "        f.write('file \\n','W')\n",
        "        f.write(f\"{firstname},{lastname},{gender},{I} \\n\")\n",
        "        f.close\n",
        "print(file)"
      ],
      "metadata": {
        "id": "1k67XrsFbY4l",
        "colab": {
          "base_uri": "https://localhost:8080/"
        },
        "outputId": "b448947d-15bb-4a4f-febc-6ba89094eac4"
      },
      "execution_count": null,
      "outputs": [
        {
          "output_type": "stream",
          "name": "stdout",
          "text": [
            "<function file at 0x7fc021a947a0>\n"
          ]
        }
      ]
    },
    {
      "cell_type": "code",
      "source": [
        "#Assegiment 2\n",
        "#Use for, .split(), and if to create a Statement that will print out words that start with 's':\n",
        "#st = 'Print only the words that start with s in this sentence'\n",
        "st = 'Print only the words that start with s in this sentence'\n",
        "for word in st.split():\n",
        "    if word[0] == 's':\n",
        "        print(word)\n",
        "       \n"
      ],
      "metadata": {
        "colab": {
          "base_uri": "https://localhost:8080/"
        },
        "id": "PS64alByN-U8",
        "outputId": "723687de-5eb6-425e-9097-12582a6e56e7"
      },
      "execution_count": null,
      "outputs": [
        {
          "output_type": "stream",
          "name": "stdout",
          "text": [
            "start\n",
            "s\n",
            "sentence\n"
          ]
        }
      ]
    },
    {
      "cell_type": "code",
      "source": [
        "#Use range() to print all the even numbers from 0 to 10.\n",
        "for i in range (10):\n",
        "  if i % 2== 0:\n",
        "     print(i,'is even')\n",
        "  "
      ],
      "metadata": {
        "colab": {
          "base_uri": "https://localhost:8080/"
        },
        "id": "ft-X9XHsVPHE",
        "outputId": "db318208-3184-424d-9f61-afc2982719f5"
      },
      "execution_count": null,
      "outputs": [
        {
          "output_type": "stream",
          "name": "stdout",
          "text": [
            "0 is even\n",
            "2 is even\n",
            "4 is even\n",
            "6 is even\n",
            "8 is even\n"
          ]
        }
      ]
    },
    {
      "cell_type": "code",
      "source": [
        "#Use a List Comprehension to create a list of all numbers between 1 and 50 that are divisible by 3\n",
        "for i in range (51):\n",
        "    if i % 3== 0:     \n",
        "        print(i) "
      ],
      "metadata": {
        "colab": {
          "base_uri": "https://localhost:8080/"
        },
        "id": "EWey8AtqZe1i",
        "outputId": "262607ac-f7e6-41d2-a448-6d6981c7cf55"
      },
      "execution_count": null,
      "outputs": [
        {
          "output_type": "stream",
          "name": "stdout",
          "text": [
            "0\n",
            "3\n",
            "6\n",
            "9\n",
            "12\n",
            "15\n",
            "18\n",
            "21\n",
            "24\n",
            "27\n",
            "30\n",
            "33\n",
            "36\n",
            "39\n",
            "42\n",
            "45\n",
            "48\n"
          ]
        }
      ]
    },
    {
      "cell_type": "code",
      "source": [
        "# Go through the string below and if the length of a word is even print \"even!\"\n",
        "\n",
        "st = 'Print every word in this sentence that has an even number of letters'\n",
        "x = st.split()\n",
        "for word in x:\n",
        "  if len(word)%2==0:\n",
        "    print([word,'even!'])"
      ],
      "metadata": {
        "colab": {
          "base_uri": "https://localhost:8080/"
        },
        "id": "MjG3q4LvdGI8",
        "outputId": "0d403cd0-3160-43ba-b26e-570877be05d1"
      },
      "execution_count": null,
      "outputs": [
        {
          "output_type": "stream",
          "name": "stdout",
          "text": [
            "['word', 'even!']\n",
            "['in', 'even!']\n",
            "['this', 'even!']\n",
            "['sentence', 'even!']\n",
            "['that', 'even!']\n",
            "['an', 'even!']\n",
            "['even', 'even!']\n",
            "['number', 'even!']\n",
            "['of', 'even!']\n"
          ]
        }
      ]
    },
    {
      "cell_type": "code",
      "source": [
        "#Write a program that prints the integers from 1 to 100. But for multiples of three print \"Fizz\" instead of the number, and for the multiples of five print \"Buzz\". For numbers which are multiples of both three and five print \"FizzBuzz\".\n",
        "for fizzbuzz in range(101):\n",
        "    if fizzbuzz % 3 == 0 and fizzbuzz % 5 == 0:\n",
        "        print(\"fizzbuzz\")\n",
        "        continue\n",
        "    elif fizzbuzz % 3 == 0:\n",
        "        print(\"fizz\")\n",
        "        continue\n",
        "    elif fizzbuzz % 5 == 0:\n",
        "        print(\"buzz\")\n",
        "        continue\n",
        "    print(fizzbuzz)"
      ],
      "metadata": {
        "colab": {
          "base_uri": "https://localhost:8080/"
        },
        "id": "AsK62EBVbeVv",
        "outputId": "fad60fe8-015a-462c-e17a-eeb5e087e0b0"
      },
      "execution_count": null,
      "outputs": [
        {
          "output_type": "stream",
          "name": "stdout",
          "text": [
            "fizzbuzz\n",
            "1\n",
            "2\n",
            "fizz\n",
            "4\n",
            "buzz\n",
            "fizz\n",
            "7\n",
            "8\n",
            "fizz\n",
            "buzz\n",
            "11\n",
            "fizz\n",
            "13\n",
            "14\n",
            "fizzbuzz\n",
            "16\n",
            "17\n",
            "fizz\n",
            "19\n",
            "buzz\n",
            "fizz\n",
            "22\n",
            "23\n",
            "fizz\n",
            "buzz\n",
            "26\n",
            "fizz\n",
            "28\n",
            "29\n",
            "fizzbuzz\n",
            "31\n",
            "32\n",
            "fizz\n",
            "34\n",
            "buzz\n",
            "fizz\n",
            "37\n",
            "38\n",
            "fizz\n",
            "buzz\n",
            "41\n",
            "fizz\n",
            "43\n",
            "44\n",
            "fizzbuzz\n",
            "46\n",
            "47\n",
            "fizz\n",
            "49\n",
            "buzz\n",
            "fizz\n",
            "52\n",
            "53\n",
            "fizz\n",
            "buzz\n",
            "56\n",
            "fizz\n",
            "58\n",
            "59\n",
            "fizzbuzz\n",
            "61\n",
            "62\n",
            "fizz\n",
            "64\n",
            "buzz\n",
            "fizz\n",
            "67\n",
            "68\n",
            "fizz\n",
            "buzz\n",
            "71\n",
            "fizz\n",
            "73\n",
            "74\n",
            "fizzbuzz\n",
            "76\n",
            "77\n",
            "fizz\n",
            "79\n",
            "buzz\n",
            "fizz\n",
            "82\n",
            "83\n",
            "fizz\n",
            "buzz\n",
            "86\n",
            "fizz\n",
            "88\n",
            "89\n",
            "fizzbuzz\n",
            "91\n",
            "92\n",
            "fizz\n",
            "94\n",
            "buzz\n",
            "fizz\n",
            "97\n",
            "98\n",
            "fizz\n",
            "buzz\n"
          ]
        }
      ]
    },
    {
      "cell_type": "code",
      "source": [
        "#Use List Comprehension to create a list of the first letters of every word in the string below:\n",
        "\n",
        "st = 'Create a list of the first letters of every word in this string'\n",
        "x = st.split()\n",
        "for word in x:\n",
        "    print(word[0])\n"
      ],
      "metadata": {
        "colab": {
          "base_uri": "https://localhost:8080/"
        },
        "id": "1f-_7tKteZSI",
        "outputId": "bbb917e0-e43b-4300-91b8-3aa07fffff89"
      },
      "execution_count": null,
      "outputs": [
        {
          "output_type": "stream",
          "name": "stdout",
          "text": [
            "C\n",
            "a\n",
            "l\n",
            "o\n",
            "t\n",
            "f\n",
            "l\n",
            "o\n",
            "e\n",
            "w\n",
            "i\n",
            "t\n",
            "s\n"
          ]
        }
      ]
    },
    {
      "cell_type": "code",
      "source": [
        "#Assignment 3\n",
        "#Write a function to count the number 4 in a given list.\n",
        "def list_count_4(nums):\n",
        "  count = 0  \n",
        "  for num in nums:\n",
        "    if num == 4:\n",
        "      count = count + 1\n",
        "\n",
        "  return count\n",
        "\n",
        "print(list_count_4([1, 4, 6, 7, 47,7]))\n",
        "print(list_count_4([1, 4, 6, 4, 7, 4]))"
      ],
      "metadata": {
        "colab": {
          "base_uri": "https://localhost:8080/"
        },
        "id": "esDMA1-uuoGH",
        "outputId": "318ce51d-daca-41f9-9575-644811e87e59"
      },
      "execution_count": 3,
      "outputs": [
        {
          "output_type": "stream",
          "name": "stdout",
          "text": [
            "1\n",
            "3\n"
          ]
        }
      ]
    },
    {
      "cell_type": "markdown",
      "source": [
        "Assignment 3\n",
        "Write a function to count the number 4 in a given list."
      ],
      "metadata": {
        "id": "xJoJd4XpuyMa"
      }
    },
    {
      "cell_type": "code",
      "source": [
        "#write a function to check whether a number is divisible by another number.\n",
        "def multiple(x, y):\n",
        "     return True if x % y == 0 else False\n",
        "print(multiple(20, 5))\n",
        "print(multiple(7, 2))"
      ],
      "metadata": {
        "colab": {
          "base_uri": "https://localhost:8080/"
        },
        "id": "F31cFXNHvSTu",
        "outputId": "614ca143-fff5-447d-86e6-7b85228e36ae"
      },
      "execution_count": 7,
      "outputs": [
        {
          "output_type": "stream",
          "name": "stdout",
          "text": [
            "True\n",
            "False\n"
          ]
        }
      ]
    },
    {
      "cell_type": "code",
      "source": [
        "#write a function to find the maximum and minimum numbers from a sequence of numbers.\n",
        "def maxandmin(x, y):\n",
        "     a = data[0]\n",
        "     b = data[0]\n",
        "     for num in data:\n",
        "          if num> a:\n",
        "               a = num\n",
        "          elif num< b:\n",
        "              b = num\n",
        "return a, b\n",
        "\n",
        "print(maxandmin([0, 10, 15, 40, -5, 42, 17, 28, 75]))"
      ],
      "metadata": {
        "colab": {
          "base_uri": "https://localhost:8080/",
          "height": 130
        },
        "id": "kb61b-73xqig",
        "outputId": "e82a49cf-55e9-4095-c2d6-4b46633a4290"
      },
      "execution_count": 9,
      "outputs": [
        {
          "output_type": "error",
          "ename": "SyntaxError",
          "evalue": "ignored",
          "traceback": [
            "\u001b[0;36m  File \u001b[0;32m\"<ipython-input-9-acb060986725>\"\u001b[0;36m, line \u001b[0;32m10\u001b[0m\n\u001b[0;31m    return a, b\u001b[0m\n\u001b[0m               ^\u001b[0m\n\u001b[0;31mSyntaxError\u001b[0m\u001b[0;31m:\u001b[0m 'return' outside function\n"
          ]
        }
      ]
    }
  ]
}