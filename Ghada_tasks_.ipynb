{
  "nbformat": 4,
  "nbformat_minor": 0,
  "metadata": {
    "colab": {
      "name": "Ghada tasks .ipynb",
      "provenance": [],
      "collapsed_sections": [],
      "authorship_tag": "ABX9TyMUmI4FZ8qSD5iTBedRECRx",
      "include_colab_link": true
    },
    "kernelspec": {
      "name": "python3",
      "display_name": "Python 3"
    },
    "language_info": {
      "name": "python"
    }
  },
  "cells": [
    {
      "cell_type": "markdown",
      "metadata": {
        "id": "view-in-github",
        "colab_type": "text"
      },
      "source": [
        "<a href=\"https://colab.research.google.com/github/ghadaali2010/Ghada/blob/main/Ghada_tasks_.ipynb\" target=\"_parent\"><img src=\"https://colab.research.google.com/assets/colab-badge.svg\" alt=\"Open In Colab\"/></a>"
      ]
    },
    {
      "cell_type": "code",
      "execution_count": null,
      "metadata": {
        "id": "b8t0pNWsUslO"
      },
      "outputs": [],
      "source": [
        ""
      ]
    },
    {
      "cell_type": "code",
      "source": [
        "# Task 1\n",
        "# Gravitational force is the attractive force that exists between twomasses. It can be calculated by using the following formula\n",
        "G=6.67 * (10**(-11)) # gravity\n",
        "M=6 * (10**(24))     # Earth mass\n",
        "m=7.34 * (10**(22))  # Moon mass\n",
        "r=3.84*(10**8)       # Earth radii\n",
        "F=(G*M*m)/(r**2)     # Force\n",
        "print(F)\n",
        "\n"
      ],
      "metadata": {
        "id": "30Xzoy8DAkhl",
        "colab": {
          "base_uri": "https://localhost:8080/"
        },
        "outputId": "5d1d5e45-87b5-49d1-d275-cefe9fbbf205"
      },
      "execution_count": null,
      "outputs": [
        {
          "output_type": "stream",
          "name": "stdout",
          "text": [
            "1.9920979817708333e+20\n"
          ]
        }
      ]
    },
    {
      "cell_type": "code",
      "source": [
        "# task 3\n",
        "#Write a program that accepts a sequence of comma-separatednumbers from user and generates a list and a tuple with those numbers\n",
        "\n",
        "x = input('Enter your name')\n",
        "y = input('Enter your age')\n",
        "z = input('Enter your favoirte float')\n",
        "a = [x, y, z]\n",
        "b = {x, y, z}\n",
        "c = (x, y, z)\n",
        "print(type(a))\n",
        "print(type(b))\n",
        "print(type(c))"
      ],
      "metadata": {
        "colab": {
          "base_uri": "https://localhost:8080/"
        },
        "id": "tWOCzSXuTOjS",
        "outputId": "5963276a-c34c-472c-b842-e6431bcedec7"
      },
      "execution_count": null,
      "outputs": [
        {
          "output_type": "stream",
          "name": "stdout",
          "text": [
            "Enter your nameghada\n",
            "Enter your age7\n",
            "Enter your favoirte float2.5\n",
            "<class 'list'>\n",
            "<class 'set'>\n",
            "<class 'tuple'>\n"
          ]
        }
      ]
    },
    {
      "cell_type": "code",
      "source": [
        " # task\n",
        " # Write a function to get user info first name, last name, gender, id(3 numbers) and save it to a text file.\n",
        " ## create function\n",
        "def file(firstname, lastname, gender, I):\n",
        "        firstname = ('Ghada')\n",
        "        lastname = ('Ali')\n",
        "        gender =('Female')\n",
        "        I = input ('456')\n",
        "        f= open(\"task.txt\",'a')\n",
        "        f.write('file \\n','W')\n",
        "        f.write(f\"{firstname},{lastname},{gender},{I} \\n\")\n",
        "        f.close\n",
        "print(file)"
      ],
      "metadata": {
        "id": "1k67XrsFbY4l",
        "colab": {
          "base_uri": "https://localhost:8080/"
        },
        "outputId": "b448947d-15bb-4a4f-febc-6ba89094eac4"
      },
      "execution_count": null,
      "outputs": [
        {
          "output_type": "stream",
          "name": "stdout",
          "text": [
            "<function file at 0x7fc021a947a0>\n"
          ]
        }
      ]
    }
  ]
}