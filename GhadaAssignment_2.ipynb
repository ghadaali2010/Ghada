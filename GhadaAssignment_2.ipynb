{
  "nbformat": 4,
  "nbformat_minor": 0,
  "metadata": {
    "colab": {
      "name": "GhadaAssignment_2.ipynb",
      "provenance": [],
      "authorship_tag": "ABX9TyNIR8wc2sEA1mW4Bk5PMPp4",
      "include_colab_link": true
    },
    "kernelspec": {
      "name": "python3",
      "display_name": "Python 3"
    },
    "language_info": {
      "name": "python"
    }
  },
  "cells": [
    {
      "cell_type": "markdown",
      "metadata": {
        "id": "view-in-github",
        "colab_type": "text"
      },
      "source": [
        "<a href=\"https://colab.research.google.com/github/ghadaali2010/Ghada/blob/main/GhadaAssignment_2.ipynb\" target=\"_parent\"><img src=\"https://colab.research.google.com/assets/colab-badge.svg\" alt=\"Open In Colab\"/></a>"
      ]
    },
    {
      "cell_type": "code",
      "source": [
        "#Assegiment 2\n",
        "#Use for, .split(), and if to create a Statement that will print out words that start with 's':\n",
        "#st = 'Print only the words that start with s in this sentence'\n",
        "st = 'Print only the words that start with s in this sentence'\n",
        "for word in st.split():\n",
        "    if word[0] == 's':\n",
        "        print(word)\n",
        "       \n"
      ],
      "metadata": {
        "colab": {
          "base_uri": "https://localhost:8080/"
        },
        "id": "PS64alByN-U8",
        "outputId": "723687de-5eb6-425e-9097-12582a6e56e7"
      },
      "execution_count": null,
      "outputs": [
        {
          "output_type": "stream",
          "name": "stdout",
          "text": [
            "start\n",
            "s\n",
            "sentence\n"
          ]
        }
      ]
    },
    {
      "cell_type": "code",
      "source": [
        "#Use range() to print all the even numbers from 0 to 10.\n",
        "for i in range (10):\n",
        "  if i % 2== 0:\n",
        "     print(i,'is even')\n",
        "  "
      ],
      "metadata": {
        "colab": {
          "base_uri": "https://localhost:8080/"
        },
        "id": "ft-X9XHsVPHE",
        "outputId": "db318208-3184-424d-9f61-afc2982719f5"
      },
      "execution_count": null,
      "outputs": [
        {
          "output_type": "stream",
          "name": "stdout",
          "text": [
            "0 is even\n",
            "2 is even\n",
            "4 is even\n",
            "6 is even\n",
            "8 is even\n"
          ]
        }
      ]
    },
    {
      "cell_type": "code",
      "source": [
        "#Use a List Comprehension to create a list of all numbers between 1 and 50 that are divisible by 3\n",
        "for i in range (51):\n",
        "    if i % 3== 0:     \n",
        "        print(i) "
      ],
      "metadata": {
        "colab": {
          "base_uri": "https://localhost:8080/"
        },
        "id": "EWey8AtqZe1i",
        "outputId": "262607ac-f7e6-41d2-a448-6d6981c7cf55"
      },
      "execution_count": null,
      "outputs": [
        {
          "output_type": "stream",
          "name": "stdout",
          "text": [
            "0\n",
            "3\n",
            "6\n",
            "9\n",
            "12\n",
            "15\n",
            "18\n",
            "21\n",
            "24\n",
            "27\n",
            "30\n",
            "33\n",
            "36\n",
            "39\n",
            "42\n",
            "45\n",
            "48\n"
          ]
        }
      ]
    },
    {
      "cell_type": "code",
      "source": [
        "# Go through the string below and if the length of a word is even print \"even!\"\n",
        "\n",
        "st = 'Print every word in this sentence that has an even number of letters'\n",
        "x = st.split()\n",
        "for word in x:\n",
        "  if len(word)%2==0:\n",
        "    print([word,'even!'])"
      ],
      "metadata": {
        "colab": {
          "base_uri": "https://localhost:8080/"
        },
        "id": "MjG3q4LvdGI8",
        "outputId": "0d403cd0-3160-43ba-b26e-570877be05d1"
      },
      "execution_count": null,
      "outputs": [
        {
          "output_type": "stream",
          "name": "stdout",
          "text": [
            "['word', 'even!']\n",
            "['in', 'even!']\n",
            "['this', 'even!']\n",
            "['sentence', 'even!']\n",
            "['that', 'even!']\n",
            "['an', 'even!']\n",
            "['even', 'even!']\n",
            "['number', 'even!']\n",
            "['of', 'even!']\n"
          ]
        }
      ]
    },
    {
      "cell_type": "code",
      "source": [
        "#Write a program that prints the integers from 1 to 100. But for multiples of three print \"Fizz\" instead of the number, and for the multiples of five print \"Buzz\". For numbers which are multiples of both three and five print \"FizzBuzz\".\n",
        "for fizzbuzz in range(101):\n",
        "    if fizzbuzz % 3 == 0 and fizzbuzz % 5 == 0:\n",
        "        print(\"fizzbuzz\")\n",
        "        continue\n",
        "    elif fizzbuzz % 3 == 0:\n",
        "        print(\"fizz\")\n",
        "        continue\n",
        "    elif fizzbuzz % 5 == 0:\n",
        "        print(\"buzz\")\n",
        "        continue\n",
        "    print(fizzbuzz)"
      ],
      "metadata": {
        "colab": {
          "base_uri": "https://localhost:8080/"
        },
        "id": "AsK62EBVbeVv",
        "outputId": "fad60fe8-015a-462c-e17a-eeb5e087e0b0"
      },
      "execution_count": null,
      "outputs": [
        {
          "output_type": "stream",
          "name": "stdout",
          "text": [
            "fizzbuzz\n",
            "1\n",
            "2\n",
            "fizz\n",
            "4\n",
            "buzz\n",
            "fizz\n",
            "7\n",
            "8\n",
            "fizz\n",
            "buzz\n",
            "11\n",
            "fizz\n",
            "13\n",
            "14\n",
            "fizzbuzz\n",
            "16\n",
            "17\n",
            "fizz\n",
            "19\n",
            "buzz\n",
            "fizz\n",
            "22\n",
            "23\n",
            "fizz\n",
            "buzz\n",
            "26\n",
            "fizz\n",
            "28\n",
            "29\n",
            "fizzbuzz\n",
            "31\n",
            "32\n",
            "fizz\n",
            "34\n",
            "buzz\n",
            "fizz\n",
            "37\n",
            "38\n",
            "fizz\n",
            "buzz\n",
            "41\n",
            "fizz\n",
            "43\n",
            "44\n",
            "fizzbuzz\n",
            "46\n",
            "47\n",
            "fizz\n",
            "49\n",
            "buzz\n",
            "fizz\n",
            "52\n",
            "53\n",
            "fizz\n",
            "buzz\n",
            "56\n",
            "fizz\n",
            "58\n",
            "59\n",
            "fizzbuzz\n",
            "61\n",
            "62\n",
            "fizz\n",
            "64\n",
            "buzz\n",
            "fizz\n",
            "67\n",
            "68\n",
            "fizz\n",
            "buzz\n",
            "71\n",
            "fizz\n",
            "73\n",
            "74\n",
            "fizzbuzz\n",
            "76\n",
            "77\n",
            "fizz\n",
            "79\n",
            "buzz\n",
            "fizz\n",
            "82\n",
            "83\n",
            "fizz\n",
            "buzz\n",
            "86\n",
            "fizz\n",
            "88\n",
            "89\n",
            "fizzbuzz\n",
            "91\n",
            "92\n",
            "fizz\n",
            "94\n",
            "buzz\n",
            "fizz\n",
            "97\n",
            "98\n",
            "fizz\n",
            "buzz\n"
          ]
        }
      ]
    },
    {
      "cell_type": "code",
      "source": [
        "#Use List Comprehension to create a list of the first letters of every word in the string below:\n",
        "\n",
        "st = 'Create a list of the first letters of every word in this string'\n",
        "x = st.split()\n",
        "for word in x:\n",
        "    print(word[0])\n"
      ],
      "metadata": {
        "colab": {
          "base_uri": "https://localhost:8080/"
        },
        "id": "1f-_7tKteZSI",
        "outputId": "bbb917e0-e43b-4300-91b8-3aa07fffff89"
      },
      "execution_count": null,
      "outputs": [
        {
          "output_type": "stream",
          "name": "stdout",
          "text": [
            "C\n",
            "a\n",
            "l\n",
            "o\n",
            "t\n",
            "f\n",
            "l\n",
            "o\n",
            "e\n",
            "w\n",
            "i\n",
            "t\n",
            "s\n"
          ]
        }
      ]
    }
  ]
}